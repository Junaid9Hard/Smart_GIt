{
 "cells": [
  {
   "cell_type": "markdown",
   "metadata": {},
   "source": [
    "# class Topic"
   ]
  },
  {
   "cell_type": "code",
   "execution_count": 2,
   "metadata": {},
   "outputs": [],
   "source": [
    "class Human():\n",
    "    def __init__(self , name , age , gender):\n",
    "        self.name = name\n",
    "        self.age = age\n",
    "        self.gender = gender\n",
    "        \n",
    "    \n",
    "\n",
    "newHuman = Human(\"junaid\", 22 , \"male\")\n",
    "another_Human = Human(\"Zayan\" , 10 , \"male\")"
   ]
  },
  {
   "cell_type": "code",
   "execution_count": 3,
   "metadata": {},
   "outputs": [
    {
     "data": {
      "text/plain": [
       "'junaid'"
      ]
     },
     "execution_count": 3,
     "metadata": {},
     "output_type": "execute_result"
    }
   ],
   "source": [
    "newHuman.name"
   ]
  },
  {
   "cell_type": "code",
   "execution_count": 4,
   "metadata": {},
   "outputs": [
    {
     "data": {
      "text/plain": [
       "10"
      ]
     },
     "execution_count": 4,
     "metadata": {},
     "output_type": "execute_result"
    }
   ],
   "source": [
    "another_Human.age"
   ]
  },
  {
   "cell_type": "code",
   "execution_count": 11,
   "metadata": {},
   "outputs": [],
   "source": [
    "class Animals():\n",
    "    def __init__(self , name , cast , varity):\n",
    "        self.name = name\n",
    "        self.cast = cast\n",
    "        self.varity = varity \n",
    "Cast_Animals = Animals(\"Bark\" , 'Street' , 'Mad')\n",
    "Vale_Animals = Animals(\"German\" , \"Trained\" , \"Army dog\")"
   ]
  },
  {
   "cell_type": "code",
   "execution_count": 14,
   "metadata": {},
   "outputs": [
    {
     "data": {
      "text/plain": [
       "'Street'"
      ]
     },
     "execution_count": 14,
     "metadata": {},
     "output_type": "execute_result"
    }
   ],
   "source": [
    "Cast_Animals.cast"
   ]
  },
  {
   "cell_type": "code",
   "execution_count": 15,
   "metadata": {},
   "outputs": [
    {
     "data": {
      "text/plain": [
       "'Army dog'"
      ]
     },
     "execution_count": 15,
     "metadata": {},
     "output_type": "execute_result"
    }
   ],
   "source": [
    "Vale_Animals.varity"
   ]
  },
  {
   "cell_type": "code",
   "execution_count": 3,
   "metadata": {},
   "outputs": [],
   "source": [
    "class Human():\n",
    "    def __init__(self , name , age , gender=\"male\"):\n",
    "        self.name = name\n",
    "        self.age = age\n",
    "        self.gender = gender\n",
    "        self.residence = \"Karachi\"\n",
    "    def moving(self):\n",
    "        print(f\"{self.name} is moving very fast\")\n",
    "    def eating (self):\n",
    "        print(f\"{self.name} is eating very fast\")\n",
    "    def playing(self):\n",
    "        print(f\"{self.name} is playing fast\")\n",
    "        \n",
    "Human1 = Human(\"junaid\", 22 , \"male\")\n",
    "Human2 = Human(\"Zayan\" , 10 , \"female\")"
   ]
  },
  {
   "cell_type": "code",
   "execution_count": 4,
   "metadata": {},
   "outputs": [
    {
     "name": "stdout",
     "output_type": "stream",
     "text": [
      "Zayan is moving very fast\n"
     ]
    }
   ],
   "source": [
    "Human2.moving()"
   ]
  },
  {
   "cell_type": "code",
   "execution_count": 6,
   "metadata": {},
   "outputs": [
    {
     "name": "stdout",
     "output_type": "stream",
     "text": [
      "junaid is eating very fast\n"
     ]
    }
   ],
   "source": [
    "Human1.eating()"
   ]
  },
  {
   "cell_type": "code",
   "execution_count": null,
   "metadata": {},
   "outputs": [],
   "source": []
  }
 ],
 "metadata": {
  "kernelspec": {
   "display_name": "Python 3",
   "language": "python",
   "name": "python3"
  },
  "language_info": {
   "codemirror_mode": {
    "name": "ipython",
    "version": 3
   },
   "file_extension": ".py",
   "mimetype": "text/x-python",
   "name": "python",
   "nbconvert_exporter": "python",
   "pygments_lexer": "ipython3",
   "version": "3.7.1"
  }
 },
 "nbformat": 4,
 "nbformat_minor": 2
}
