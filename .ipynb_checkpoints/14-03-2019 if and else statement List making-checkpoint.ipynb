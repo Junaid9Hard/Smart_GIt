{
 "cells": [
  {
   "cell_type": "markdown",
   "metadata": {},
   "source": [
    "# Testing Sets of Condition"
   ]
  },
  {
   "cell_type": "raw",
   "metadata": {},
   "source": [
    "if cnic==true\n",
    "{\n",
    "    if vouterlist==true\n",
    "  \n",
    "}"
   ]
  },
  {
   "cell_type": "code",
   "execution_count": 1,
   "metadata": {},
   "outputs": [
    {
     "name": "stdout",
     "output_type": "stream",
     "text": [
      "have Cnic? (y/n)n\n",
      "name in list? (y/n)y\n",
      "Garak_ho\n"
     ]
    }
   ],
   "source": [
    "cnic = input(\"have Cnic? (y/n)\")\n",
    "voter_list = input(\"name in list? (y/n)\")\n",
    "if cnic == \"y\" and voter_list == \"y\":\n",
    "    print (\"Cast You Vote\")\n",
    "else:\n",
    "    print(\"Garak_ho\")\n",
    "\n",
    "\n"
   ]
  },
  {
   "cell_type": "code",
   "execution_count": 12,
   "metadata": {},
   "outputs": [
    {
     "name": "stdout",
     "output_type": "stream",
     "text": [
      "have Psl ticket? (y/n) y\n",
      "Sunday Off? (y/n) y\n",
      "You May Go\n"
     ]
    }
   ],
   "source": [
    "Ticket = input(\"have Psl ticket? (y/n) \")\n",
    "Off = input(\"Sunday Off? (y/n) \")\n",
    "if Ticket == \"y\" and Off == \"y\":\n",
    "    print(\"You May Go\")\n",
    "else:\n",
    "    print(\"no Go\")"
   ]
  },
  {
   "cell_type": "code",
   "execution_count": 17,
   "metadata": {},
   "outputs": [
    {
     "name": "stdout",
     "output_type": "stream",
     "text": [
      "Want psl ticket? (y/n)y\n",
      "range kiti hy? (y/n)y\n",
      "(str) 2000 - 2500? (y/n)n\n",
      "Sooo_Sad\n"
     ]
    }
   ],
   "source": [
    "ticket = input(\"Want psl ticket? (y/n)\")\n",
    "Rate = input (\"range kiti hy? (y/n)\")\n",
    "mention_value = input(\"(str) 2000 - 2500? (y/n)\")\n",
    "if ticket == \"y\" and Rate == \"y\" and mention_value == \"y\":\n",
    "    print(\"Congrats\")\n",
    "else:\n",
    "    print(\"Sooo_Sad\")"
   ]
  },
  {
   "cell_type": "markdown",
   "metadata": {},
   "source": [
    "# "
   ]
  },
  {
   "cell_type": "markdown",
   "metadata": {},
   "source": [
    "# List Making"
   ]
  },
  {
   "cell_type": "code",
   "execution_count": 18,
   "metadata": {},
   "outputs": [],
   "source": [
    "my_fav_dishes = []\n",
    "my_fav_cars = [\"car\",\"bike\",\"bus\"]"
   ]
  },
  {
   "cell_type": "code",
   "execution_count": 19,
   "metadata": {},
   "outputs": [],
   "source": [
    "mix_list = [\"abc\",1,\"xyz\",50]"
   ]
  },
  {
   "cell_type": "code",
   "execution_count": 39,
   "metadata": {},
   "outputs": [
    {
     "name": "stdout",
     "output_type": "stream",
     "text": [
      "The_Best World Pakistan\n"
     ]
    }
   ],
   "source": [
    "country = [\"Pakistan\",\"Saudia Arabia\",\"Istambul\",\"Zimbawy\"]\n",
    "print(\"The_Best World\" , Country[0])\n",
    "#Country[3]"
   ]
  },
  {
   "cell_type": "code",
   "execution_count": 40,
   "metadata": {},
   "outputs": [],
   "source": [
    "country[1] = \"Islmabad\""
   ]
  },
  {
   "cell_type": "code",
   "execution_count": 41,
   "metadata": {},
   "outputs": [
    {
     "data": {
      "text/plain": [
       "['Pakistan', 'Islmabad', 'Istambul', 'Zimbawy']"
      ]
     },
     "execution_count": 41,
     "metadata": {},
     "output_type": "execute_result"
    }
   ],
   "source": [
    "country"
   ]
  },
  {
   "cell_type": "code",
   "execution_count": 42,
   "metadata": {},
   "outputs": [],
   "source": [
    "del country[2]"
   ]
  },
  {
   "cell_type": "code",
   "execution_count": 43,
   "metadata": {},
   "outputs": [
    {
     "data": {
      "text/plain": [
       "['Pakistan', 'Islmabad', 'Zimbawy']"
      ]
     },
     "execution_count": 43,
     "metadata": {},
     "output_type": "execute_result"
    }
   ],
   "source": [
    "country"
   ]
  },
  {
   "cell_type": "code",
   "execution_count": 44,
   "metadata": {},
   "outputs": [],
   "source": [
    "country.append (\"Saudia_Arabia\")"
   ]
  },
  {
   "cell_type": "code",
   "execution_count": 45,
   "metadata": {},
   "outputs": [
    {
     "data": {
      "text/plain": [
       "['Pakistan', 'Islmabad', 'Zimbawy', 'Saudia_Arabia']"
      ]
     },
     "execution_count": 45,
     "metadata": {},
     "output_type": "execute_result"
    }
   ],
   "source": [
    "country"
   ]
  },
  {
   "cell_type": "code",
   "execution_count": 46,
   "metadata": {},
   "outputs": [],
   "source": [
    "country.insert(1, \"Dubai\") "
   ]
  },
  {
   "cell_type": "code",
   "execution_count": 47,
   "metadata": {},
   "outputs": [
    {
     "data": {
      "text/plain": [
       "['Pakistan', 'Dubai', 'Islmabad', 'Zimbawy', 'Saudia_Arabia']"
      ]
     },
     "execution_count": 47,
     "metadata": {},
     "output_type": "execute_result"
    }
   ],
   "source": [
    "country"
   ]
  },
  {
   "cell_type": "code",
   "execution_count": 48,
   "metadata": {},
   "outputs": [
    {
     "data": {
      "text/plain": [
       "5"
      ]
     },
     "execution_count": 48,
     "metadata": {},
     "output_type": "execute_result"
    }
   ],
   "source": [
    "len(country)"
   ]
  },
  {
   "cell_type": "code",
   "execution_count": 49,
   "metadata": {},
   "outputs": [],
   "source": [
    "country.insert(55 , \"South Africa\")"
   ]
  },
  {
   "cell_type": "code",
   "execution_count": 50,
   "metadata": {},
   "outputs": [
    {
     "data": {
      "text/plain": [
       "6"
      ]
     },
     "execution_count": 50,
     "metadata": {},
     "output_type": "execute_result"
    }
   ],
   "source": [
    "len(country)"
   ]
  },
  {
   "cell_type": "code",
   "execution_count": 52,
   "metadata": {},
   "outputs": [
    {
     "data": {
      "text/plain": [
       "3"
      ]
     },
     "execution_count": 52,
     "metadata": {},
     "output_type": "execute_result"
    }
   ],
   "source": [
    "country.index(\"Zimbawy\")"
   ]
  },
  {
   "cell_type": "code",
   "execution_count": 54,
   "metadata": {},
   "outputs": [
    {
     "data": {
      "text/plain": [
       "True"
      ]
     },
     "execution_count": 54,
     "metadata": {},
     "output_type": "execute_result"
    }
   ],
   "source": [
    "check_quaid = [\"allama_iqbal\" , \"quaid\"]\n",
    "\"quaid\" in check_quaid"
   ]
  },
  {
   "cell_type": "raw",
   "metadata": {},
   "source": []
  },
  {
   "cell_type": "code",
   "execution_count": 1,
   "metadata": {},
   "outputs": [
    {
     "data": {
      "text/plain": [
       "True"
      ]
     },
     "execution_count": 1,
     "metadata": {},
     "output_type": "execute_result"
    }
   ],
   "source": [
    "check_Country = [\"pakistan\" , \"Usa\"]\n",
    "\"pakistan\" in check_Country\n"
   ]
  },
  {
   "cell_type": "code",
   "execution_count": 2,
   "metadata": {},
   "outputs": [
    {
     "data": {
      "text/plain": [
       "'false'"
      ]
     },
     "execution_count": 2,
     "metadata": {},
     "output_type": "execute_result"
    }
   ],
   "source": [
    "app = [\"fb\" , \"whatsapp\" , \"123\" , \"false\"]\n",
    "app [3]"
   ]
  },
  {
   "cell_type": "code",
   "execution_count": null,
   "metadata": {},
   "outputs": [],
   "source": []
  }
 ],
 "metadata": {
  "kernelspec": {
   "display_name": "Python 3",
   "language": "python",
   "name": "python3"
  },
  "language_info": {
   "codemirror_mode": {
    "name": "ipython",
    "version": 3
   },
   "file_extension": ".py",
   "mimetype": "text/x-python",
   "name": "python",
   "nbconvert_exporter": "python",
   "pygments_lexer": "ipython3",
   "version": "3.7.1"
  }
 },
 "nbformat": 4,
 "nbformat_minor": 2
}
