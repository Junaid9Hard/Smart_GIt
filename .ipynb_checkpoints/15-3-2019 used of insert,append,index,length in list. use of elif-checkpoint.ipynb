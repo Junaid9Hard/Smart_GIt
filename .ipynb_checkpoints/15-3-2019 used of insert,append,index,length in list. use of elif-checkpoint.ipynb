{
 "cells": [
  {
   "cell_type": "code",
   "execution_count": 4,
   "metadata": {},
   "outputs": [],
   "source": [
    "best_places_Pakistan = ['Badshai Mosque' , 'Tomb of Quaid-e-Azam','mohata Palace','Minar pakistan','Sea View','Mall Road','Zoo of lahore']"
   ]
  },
  {
   "cell_type": "code",
   "execution_count": 5,
   "metadata": {},
   "outputs": [
    {
     "data": {
      "text/plain": [
       "['Badshai Mosque',\n",
       " 'Tomb of Quaid-e-Azam',\n",
       " 'mohata Palace',\n",
       " 'Minar pakistan',\n",
       " 'Sea View',\n",
       " 'Mall Road',\n",
       " 'Zoo of lahore']"
      ]
     },
     "execution_count": 5,
     "metadata": {},
     "output_type": "execute_result"
    }
   ],
   "source": [
    "best_places_Pakistan"
   ]
  },
  {
   "cell_type": "code",
   "execution_count": 6,
   "metadata": {},
   "outputs": [],
   "source": [
    "best_places_Pakistan.insert(3,\"4Minar Chorangi\")"
   ]
  },
  {
   "cell_type": "code",
   "execution_count": 7,
   "metadata": {},
   "outputs": [
    {
     "data": {
      "text/plain": [
       "['Badshai Mosque',\n",
       " 'Tomb of Quaid-e-Azam',\n",
       " 'mohata Palace',\n",
       " '4Minar Chorangi',\n",
       " 'Minar pakistan',\n",
       " 'Sea View',\n",
       " 'Mall Road',\n",
       " 'Zoo of lahore']"
      ]
     },
     "execution_count": 7,
     "metadata": {},
     "output_type": "execute_result"
    }
   ],
   "source": [
    "best_places_Pakistan"
   ]
  },
  {
   "cell_type": "code",
   "execution_count": 8,
   "metadata": {},
   "outputs": [],
   "source": [
    "best_places_Pakistan.append(\"Famous food\")"
   ]
  },
  {
   "cell_type": "code",
   "execution_count": 9,
   "metadata": {},
   "outputs": [
    {
     "data": {
      "text/plain": [
       "['Badshai Mosque',\n",
       " 'Tomb of Quaid-e-Azam',\n",
       " 'mohata Palace',\n",
       " '4Minar Chorangi',\n",
       " 'Minar pakistan',\n",
       " 'Sea View',\n",
       " 'Mall Road',\n",
       " 'Zoo of lahore',\n",
       " 'Famous food']"
      ]
     },
     "execution_count": 9,
     "metadata": {},
     "output_type": "execute_result"
    }
   ],
   "source": [
    "best_places_Pakistan"
   ]
  },
  {
   "cell_type": "code",
   "execution_count": 10,
   "metadata": {},
   "outputs": [
    {
     "data": {
      "text/plain": [
       "9"
      ]
     },
     "execution_count": 10,
     "metadata": {},
     "output_type": "execute_result"
    }
   ],
   "source": [
    "len(best_places_Pakistan)"
   ]
  },
  {
   "cell_type": "code",
   "execution_count": 11,
   "metadata": {},
   "outputs": [
    {
     "data": {
      "text/plain": [
       "6"
      ]
     },
     "execution_count": 11,
     "metadata": {},
     "output_type": "execute_result"
    }
   ],
   "source": [
    "best_places_Pakistan.index(\"Mall Road\")"
   ]
  },
  {
   "cell_type": "code",
   "execution_count": 12,
   "metadata": {},
   "outputs": [
    {
     "data": {
      "text/plain": [
       "True"
      ]
     },
     "execution_count": 12,
     "metadata": {},
     "output_type": "execute_result"
    }
   ],
   "source": [
    "\"Tomb of Quaid-e-Azam\" in best_places_Pakistan"
   ]
  },
  {
   "cell_type": "code",
   "execution_count": 13,
   "metadata": {},
   "outputs": [
    {
     "data": {
      "text/plain": [
       "False"
      ]
     },
     "execution_count": 13,
     "metadata": {},
     "output_type": "execute_result"
    }
   ],
   "source": [
    "'Karachi' in best_places_Pakistan"
   ]
  },
  {
   "cell_type": "markdown",
   "metadata": {},
   "source": [
    "# Greater  than & less Than"
   ]
  },
  {
   "cell_type": "code",
   "execution_count": 15,
   "metadata": {},
   "outputs": [
    {
     "name": "stdout",
     "output_type": "stream",
     "text": [
      "enter First Value: 2\n",
      "enter Second Value: 4\n",
      "2 Less Than 4\n"
     ]
    }
   ],
   "source": [
    "a = int(input(\"enter First Value: \"))\n",
    "b = int(input(\"enter Second Value: \"))\n",
    "if a==b:\n",
    "    print(str(a) , 'equal to' , str(b))\n",
    "elif a>b:\n",
    "    print(str(a) , 'Greater than' , str(b))\n",
    "elif a<b:\n",
    "    print(str(a) , 'Less Than' , str(b))"
   ]
  },
  {
   "cell_type": "code",
   "execution_count": null,
   "metadata": {},
   "outputs": [],
   "source": []
  },
  {
   "cell_type": "code",
   "execution_count": 33,
   "metadata": {},
   "outputs": [
    {
     "name": "stdout",
     "output_type": "stream",
     "text": [
      "[2, 4, 6, 8, 10, 12, 14, 16, 18]\n"
     ]
    }
   ],
   "source": [
    "even_numbers = list(range(2,20,2))\n",
    "print(even_numbers)"
   ]
  },
  {
   "cell_type": "code",
   "execution_count": null,
   "metadata": {},
   "outputs": [],
   "source": []
  }
 ],
 "metadata": {
  "kernelspec": {
   "display_name": "Python 3",
   "language": "python",
   "name": "python3"
  },
  "language_info": {
   "codemirror_mode": {
    "name": "ipython",
    "version": 3
   },
   "file_extension": ".py",
   "mimetype": "text/x-python",
   "name": "python",
   "nbconvert_exporter": "python",
   "pygments_lexer": "ipython3",
   "version": "3.7.1"
  }
 },
 "nbformat": 4,
 "nbformat_minor": 2
}
