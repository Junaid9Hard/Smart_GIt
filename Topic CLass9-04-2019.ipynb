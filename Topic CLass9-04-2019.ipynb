{
 "cells": [
  {
   "cell_type": "code",
   "execution_count": 1,
   "metadata": {},
   "outputs": [],
   "source": [
    "class Car():\n",
    "    def __init__(self , make , model , year , colour):\n",
    "        self.make = make\n",
    "        self.model = model\n",
    "        self.year = year\n",
    "        self.colour = colour\n",
    "    def get_detail(self):\n",
    "        detail = f'{self.model} {self.make} {self.year} {self.colour}'\n",
    "        return detail"
   ]
  },
  {
   "cell_type": "code",
   "execution_count": 2,
   "metadata": {},
   "outputs": [],
   "source": [
    "my_first_car = Car(\"Honda\" , \"IDSi\" , 2006 , \"white\")"
   ]
  },
  {
   "cell_type": "code",
   "execution_count": 3,
   "metadata": {},
   "outputs": [
    {
     "data": {
      "text/plain": [
       "'IDSi'"
      ]
     },
     "execution_count": 3,
     "metadata": {},
     "output_type": "execute_result"
    }
   ],
   "source": [
    "my_first_car.model\n"
   ]
  },
  {
   "cell_type": "code",
   "execution_count": 4,
   "metadata": {},
   "outputs": [],
   "source": [
    "my_second_car = Car(\"Toyota\" , \"Saloon\" , 2013 , \"Black\")"
   ]
  },
  {
   "cell_type": "code",
   "execution_count": 5,
   "metadata": {},
   "outputs": [
    {
     "data": {
      "text/plain": [
       "'Black'"
      ]
     },
     "execution_count": 5,
     "metadata": {},
     "output_type": "execute_result"
    }
   ],
   "source": [
    "my_second_car.colour"
   ]
  },
  {
   "cell_type": "code",
   "execution_count": 6,
   "metadata": {},
   "outputs": [
    {
     "data": {
      "text/plain": [
       "'IDSi Honda 2006 white'"
      ]
     },
     "execution_count": 6,
     "metadata": {},
     "output_type": "execute_result"
    }
   ],
   "source": [
    "my_first_car.get_detail()"
   ]
  },
  {
   "cell_type": "code",
   "execution_count": 7,
   "metadata": {},
   "outputs": [
    {
     "data": {
      "text/plain": [
       "'Saloon Toyota 2013 Black'"
      ]
     },
     "execution_count": 7,
     "metadata": {},
     "output_type": "execute_result"
    }
   ],
   "source": [
    "my_second_car.get_detail()"
   ]
  },
  {
   "cell_type": "markdown",
   "metadata": {},
   "source": [
    "# Default Attribute"
   ]
  },
  {
   "cell_type": "code",
   "execution_count": 16,
   "metadata": {},
   "outputs": [],
   "source": [
    "class Car():\n",
    "    def __init__(self , make , model , year , colour):\n",
    "        self.make = make\n",
    "        self.model = model\n",
    "        self.year = year\n",
    "        self.colour = colour\n",
    "        self.meter_reading = 0\n",
    "    def get_detail(self):\n",
    "        detail = f'{self.model} {self.make} {self.year} {self.colour}'\n",
    "        return detail\n",
    "    def read_meter_reading(Self):\n",
    "        print(\"my car meter reading\" +str(self.meter_reading)+ \"miles on\")\n",
    "        "
   ]
  },
  {
   "cell_type": "code",
   "execution_count": 9,
   "metadata": {},
   "outputs": [],
   "source": [
    "class automobile_Car():\n",
    "    def __init__(self , make , model , year , colour):\n",
    "        self.make = make\n",
    "        self.model = model\n",
    "        self.year = year\n",
    "        self.colour = colour\n",
    "        self.meter = 0\n",
    "    def get_detail(self):\n",
    "        detail = f'{self.model} {self.make} {self.year} {self.colour}'\n",
    "        return detail\n",
    "    \n",
    "    def read_meter(self):\n",
    "        print(\"my car meter reading\" +str(self.meter)+ \"miles on\")\n",
    "    def update_meter(self , mileage):\n",
    "        self.meter_reading = mileage\n",
    "        print(\"Meter Reading is Updated\")"
   ]
  },
  {
   "cell_type": "code",
   "execution_count": 10,
   "metadata": {},
   "outputs": [],
   "source": [
    "my_third_car = automobile_Car(\"nissan\" , \"Juke\" , 2015 , \"Red\")"
   ]
  },
  {
   "cell_type": "code",
   "execution_count": 11,
   "metadata": {},
   "outputs": [
    {
     "name": "stdout",
     "output_type": "stream",
     "text": [
      "my car meter reading0miles on\n"
     ]
    }
   ],
   "source": [
    "my_third_car.read_meter()"
   ]
  },
  {
   "cell_type": "code",
   "execution_count": 12,
   "metadata": {},
   "outputs": [
    {
     "name": "stdout",
     "output_type": "stream",
     "text": [
      "Meter Reading is Updated\n"
     ]
    }
   ],
   "source": [
    "my_third_car.update_meter(50)"
   ]
  },
  {
   "cell_type": "code",
   "execution_count": 2,
   "metadata": {},
   "outputs": [],
   "source": [
    "class automobile():\n",
    "    def __init__(self , make , model , year , colour):\n",
    "        self.make = make\n",
    "        self.model = model\n",
    "        self.year = year\n",
    "        self.colour = colour\n",
    "        self.meter_reading = 0\n",
    "    def get_detail(self):\n",
    "        detail = f'{self.model} {self.make} {self.year} {self.colour}'\n",
    "        return detail\n",
    "    \n",
    "    def read_meter_reading(self):\n",
    "        print(\"my car meter reading\" +str(self.meter_reading)+ \"miles on\")\n",
    "    def update_meter_reading(self , mileage):\n",
    "        if (self.meter_reading<mileage):\n",
    "            self.meter_reading = mileage\n",
    "            print(\"Meter Reading is Updated\")\n",
    "        else:\n",
    "            print(\"nahi kro\")\n",
    "    def increment_meter_reading(self , miles):\n",
    "        self.meter_reading += miles\n",
    "        print(\"sucessfully add\")"
   ]
  },
  {
   "cell_type": "code",
   "execution_count": 3,
   "metadata": {},
   "outputs": [],
   "source": [
    "my_fourth_car = automobile (\"Nissan\" , \"Dayz\" , \"silver\",5555)"
   ]
  },
  {
   "cell_type": "code",
   "execution_count": 4,
   "metadata": {},
   "outputs": [
    {
     "name": "stdout",
     "output_type": "stream",
     "text": [
      "Meter Reading is Updated\n"
     ]
    }
   ],
   "source": [
    "my_fourth_car.update_meter_reading(1)"
   ]
  },
  {
   "cell_type": "code",
   "execution_count": 5,
   "metadata": {},
   "outputs": [
    {
     "name": "stdout",
     "output_type": "stream",
     "text": [
      "Meter Reading is Updated\n"
     ]
    }
   ],
   "source": [
    "my_fourth_car.update_meter_reading(1000)"
   ]
  },
  {
   "cell_type": "code",
   "execution_count": 6,
   "metadata": {},
   "outputs": [
    {
     "name": "stdout",
     "output_type": "stream",
     "text": [
      "sucessfully add\n"
     ]
    }
   ],
   "source": [
    "my_fourth_car.increment_meter_reading(233)"
   ]
  },
  {
   "cell_type": "code",
   "execution_count": 7,
   "metadata": {},
   "outputs": [
    {
     "name": "stdout",
     "output_type": "stream",
     "text": [
      "my car meter reading1233miles on\n"
     ]
    }
   ],
   "source": [
    "my_fourth_car.read_meter_reading()"
   ]
  },
  {
   "cell_type": "code",
   "execution_count": 8,
   "metadata": {},
   "outputs": [
    {
     "name": "stdout",
     "output_type": "stream",
     "text": [
      "Meter Reading is Updated\n"
     ]
    }
   ],
   "source": [
    "my_fourth_car.update_meter_reading(1255)"
   ]
  },
  {
   "cell_type": "code",
   "execution_count": 9,
   "metadata": {},
   "outputs": [],
   "source": [
    "class mech_car():\n",
    "    def __init__(self , make , model , year , colour):\n",
    "        self.make = make\n",
    "        self.model = model\n",
    "        self.year = year\n",
    "        self.colour = colour\n",
    "        self.meter_reading = 0\n",
    "        self.fuel = 20\n",
    "    def get_detail(self):\n",
    "        detail = f'{self.model} {self.make} {self.year} {self.colour}'\n",
    "        return detail\n",
    "    \n",
    "    def read_meter_reading(self):\n",
    "        print(\"my car meter reading\" +str(self.meter_reading)+ \"miles on\")\n",
    "    def update_meter_reading(self , mileage):\n",
    "        if (self.meter_reading<mileage):\n",
    "            self.meter_reading = mileage\n",
    "            print(\"Meter Reading is Updated\")\n",
    "        else:\n",
    "            print(\"nahi kro\")\n",
    "    def increment_meter_reading(self , miles):\n",
    "        self.meter_reading += miles\n",
    "        print(\"\")\n",
    "    def get_fuel(self):\n",
    "        print(\"this car has \" +str (self.fuel)+  \" ltr fuel\")"
   ]
  },
  {
   "cell_type": "code",
   "execution_count": 10,
   "metadata": {},
   "outputs": [],
   "source": [
    "my_fifth_car = mech_car(\"honda\" , \"Totyta\" , 102 , \"all\")"
   ]
  },
  {
   "cell_type": "code",
   "execution_count": 11,
   "metadata": {},
   "outputs": [
    {
     "name": "stdout",
     "output_type": "stream",
     "text": [
      "my car meter reading0miles on\n"
     ]
    }
   ],
   "source": [
    "my_fifth_car.read_meter_reading()"
   ]
  },
  {
   "cell_type": "code",
   "execution_count": 12,
   "metadata": {},
   "outputs": [
    {
     "name": "stdout",
     "output_type": "stream",
     "text": [
      "this car has 20 ltr fuel\n"
     ]
    }
   ],
   "source": [
    "my_fifth_car.get_fuel()"
   ]
  },
  {
   "cell_type": "code",
   "execution_count": 13,
   "metadata": {},
   "outputs": [],
   "source": [
    "class Ele_Car(mech_car):\n",
    "    def __init__(self , make , model , year , colour , oil):\n",
    "        super().__init__(make , model , year , colour)\n",
    "        self.oil = oil\n",
    "        self.battery = 50\n",
    "    def describe_battery(self):\n",
    "        print(\"this car has \" +str(self.battery)+ \"/KWH\")\n",
    "    def get_fuel(self):\n",
    "        print(\"Dosent need fuel\")"
   ]
  },
  {
   "cell_type": "code",
   "execution_count": 14,
   "metadata": {},
   "outputs": [],
   "source": [
    "my_fifth_car = Ele_Car(\"Totyta\" , \"Leatest\" , 2017 , \"white\" , \"3.7ltr\")"
   ]
  },
  {
   "cell_type": "code",
   "execution_count": 15,
   "metadata": {},
   "outputs": [
    {
     "name": "stdout",
     "output_type": "stream",
     "text": [
      "this car has 50/KWH\n"
     ]
    }
   ],
   "source": [
    "my_fifth_car.describe_battery()"
   ]
  },
  {
   "cell_type": "code",
   "execution_count": null,
   "metadata": {},
   "outputs": [],
   "source": []
  },
  {
   "cell_type": "code",
   "execution_count": null,
   "metadata": {},
   "outputs": [],
   "source": []
  },
  {
   "cell_type": "code",
   "execution_count": null,
   "metadata": {},
   "outputs": [],
   "source": []
  },
  {
   "cell_type": "code",
   "execution_count": null,
   "metadata": {},
   "outputs": [],
   "source": []
  },
  {
   "cell_type": "code",
   "execution_count": null,
   "metadata": {},
   "outputs": [],
   "source": []
  },
  {
   "cell_type": "code",
   "execution_count": null,
   "metadata": {},
   "outputs": [],
   "source": []
  }
 ],
 "metadata": {
  "kernelspec": {
   "display_name": "Python 3",
   "language": "python",
   "name": "python3"
  },
  "language_info": {
   "codemirror_mode": {
    "name": "ipython",
    "version": 3
   },
   "file_extension": ".py",
   "mimetype": "text/x-python",
   "name": "python",
   "nbconvert_exporter": "python",
   "pygments_lexer": "ipython3",
   "version": "3.7.1"
  }
 },
 "nbformat": 4,
 "nbformat_minor": 2
}
