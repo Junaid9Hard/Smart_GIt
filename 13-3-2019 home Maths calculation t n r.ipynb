{
 "cells": [
  {
   "cell_type": "code",
   "execution_count": 6,
   "metadata": {},
   "outputs": [
    {
     "name": "stdout",
     "output_type": "stream",
     "text": [
      "-0.5\n"
     ]
    }
   ],
   "source": [
    "a = 10\n",
    "b = 10.5\n",
    "sum = (a - b)\n",
    "print(sum)"
   ]
  },
  {
   "cell_type": "code",
   "execution_count": 3,
   "metadata": {},
   "outputs": [
    {
     "name": "stdout",
     "output_type": "stream",
     "text": [
      "35\n"
     ]
    }
   ],
   "source": [
    "a = 5\n",
    "b = 7\n",
    "sum = (a*b)\n",
    "print(sum)\n"
   ]
  },
  {
   "cell_type": "code",
   "execution_count": 9,
   "metadata": {},
   "outputs": [
    {
     "name": "stdout",
     "output_type": "stream",
     "text": [
      "92\n"
     ]
    }
   ],
   "source": [
    "number = 45\n",
    "number2 = 47\n",
    "Add = (number + number2)\n",
    "print(Add)"
   ]
  },
  {
   "cell_type": "code",
   "execution_count": 23,
   "metadata": {},
   "outputs": [
    {
     "data": {
      "text/plain": [
       "6"
      ]
     },
     "execution_count": 23,
     "metadata": {},
     "output_type": "execute_result"
    }
   ],
   "source": [
    "whats_left_over = 55 % 7 \n",
    "whats_left_over"
   ]
  },
  {
   "cell_type": "code",
   "execution_count": 25,
   "metadata": {},
   "outputs": [],
   "source": [
    "invesment = 10\n",
    "Revenrew_Generate = 20\n",
    "invesment += Revenrew_Generate "
   ]
  },
  {
   "cell_type": "code",
   "execution_count": 29,
   "metadata": {},
   "outputs": [
    {
     "name": "stdout",
     "output_type": "stream",
     "text": [
      "\t MY NAME IS JUNAID\n"
     ]
    }
   ],
   "source": [
    "print (\"\\t MY NAME IS JUNAID\")"
   ]
  },
  {
   "cell_type": "code",
   "execution_count": 5,
   "metadata": {},
   "outputs": [
    {
     "name": "stdout",
     "output_type": "stream",
     "text": [
      "\t\t MY NAME IS JUNAID\n",
      "\t\t I love pakistan\r\n",
      "\t\t I want to be God Citizen\n"
     ]
    }
   ],
   "source": [
    "print(\"\\t\\t MY NAME IS JUNAID\\n\\t\\t I love pakistan\\r\\n\\t\\t I want to be God Citizen\")"
   ]
  },
  {
   "cell_type": "code",
   "execution_count": 59,
   "metadata": {},
   "outputs": [
    {
     "name": "stdout",
     "output_type": "stream",
     "text": [
      "Which_number_want_to_Multiply :5\n",
      "Which_number_want_to_Multiply :\t 5\n",
      "25\n",
      "10\n"
     ]
    }
   ],
   "source": [
    "num = int(input(\"Which_number_want_to_Multiply :\"))\n",
    "num2 = int(input(\"Which_number_want_to_Multiply :\\t \"))\n",
    "print(num * num2)\n",
    "print(num + num2)    "
   ]
  },
  {
   "cell_type": "code",
   "execution_count": 6,
   "metadata": {},
   "outputs": [
    {
     "name": "stdout",
     "output_type": "stream",
     "text": [
      "number: 11\n",
      "number: 22\n",
      "Result 33\n"
     ]
    }
   ],
   "source": [
    "a = int(input(\"number: \" ))\n",
    "b = int(input(\"number: \" ))\n",
    "Sum =a+b\n",
    "print('Result' ,Sum)"
   ]
  },
  {
   "cell_type": "code",
   "execution_count": 24,
   "metadata": {},
   "outputs": [
    {
     "name": "stdout",
     "output_type": "stream",
     "text": [
      "Junaid Ahmed Mian\n"
     ]
    }
   ],
   "source": [
    "Name = (\"Junaid\")\n",
    "F_Name = (\"Ahmed Mian\")\n",
    "print(Name,F_Name)"
   ]
  },
  {
   "cell_type": "code",
   "execution_count": null,
   "metadata": {},
   "outputs": [],
   "source": []
  }
 ],
 "metadata": {
  "kernelspec": {
   "display_name": "Python 3",
   "language": "python",
   "name": "python3"
  },
  "language_info": {
   "codemirror_mode": {
    "name": "ipython",
    "version": 3
   },
   "file_extension": ".py",
   "mimetype": "text/x-python",
   "name": "python",
   "nbconvert_exporter": "python",
   "pygments_lexer": "ipython3",
   "version": "3.7.1"
  }
 },
 "nbformat": 4,
 "nbformat_minor": 2
}
