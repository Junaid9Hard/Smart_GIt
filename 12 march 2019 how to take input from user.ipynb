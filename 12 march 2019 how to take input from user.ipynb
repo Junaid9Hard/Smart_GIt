{
 "cells": [
  {
   "cell_type": "code",
   "execution_count": 2,
   "metadata": {},
   "outputs": [
    {
     "name": "stdout",
     "output_type": "stream",
     "text": [
      "1 2 5 7 Pakistan\n"
     ]
    }
   ],
   "source": [
    "print (1,2,5,7,\"Pakistan\")"
   ]
  },
  {
   "cell_type": "code",
   "execution_count": 4,
   "metadata": {},
   "outputs": [
    {
     "name": "stdout",
     "output_type": "stream",
     "text": [
      "a55\n",
      "b45\n",
      "55 45\n"
     ]
    }
   ],
   "source": [
    "no_1 = input(\"a\")\n",
    "no_2 = input(\"b\")\n",
    "print(no_1 , no_2)"
   ]
  },
  {
   "cell_type": "code",
   "execution_count": 1,
   "metadata": {},
   "outputs": [
    {
     "name": "stdout",
     "output_type": "stream",
     "text": [
      "ask1st timehappy\n",
      "ask2nd timesad\n",
      "happy sad\n"
     ]
    }
   ],
   "source": [
    "no_A = input(\"ask1st time\")\n",
    "no_B = input(\"ask2nd time\")\n",
    "print(no_A,no_B)\n"
   ]
  },
  {
   "cell_type": "code",
   "execution_count": 7,
   "metadata": {},
   "outputs": [
    {
     "name": "stdout",
     "output_type": "stream",
     "text": [
      "ask1st time : 50\n",
      "ask2nd time : 55\n",
      "105\n"
     ]
    }
   ],
   "source": [
    "no_A = int(input(\"ask1st time : \"))\n",
    "no_B = int(input(\"ask2nd time : \"))\n",
    "print(no_A + no_B)\n"
   ]
  },
  {
   "cell_type": "code",
   "execution_count": 8,
   "metadata": {},
   "outputs": [
    {
     "name": "stdout",
     "output_type": "stream",
     "text": [
      "ask1st time : 5\n",
      "ask2nd time : 5\n",
      "25\n"
     ]
    }
   ],
   "source": [
    "no_A = int(input(\"ask1st time : \"))\n",
    "no_B = int(input(\"ask2nd time : \"))\n",
    "print(no_A * no_B)"
   ]
  },
  {
   "cell_type": "code",
   "execution_count": 12,
   "metadata": {},
   "outputs": [
    {
     "name": "stdout",
     "output_type": "stream",
     "text": [
      "ask _ 1\n",
      "ask _ 2\n"
     ]
    }
   ],
   "source": [
    "d = int(input(\"ask _ \"))\n",
    "c = int(input(\"ask _ \"))"
   ]
  },
  {
   "cell_type": "code",
   "execution_count": 1,
   "metadata": {},
   "outputs": [
    {
     "name": "stdout",
     "output_type": "stream",
     "text": [
      "2.5\n"
     ]
    }
   ],
   "source": [
    "a=10\n",
    "b=4\n",
    "c=a/b\n",
    "print(c)"
   ]
  },
  {
   "cell_type": "markdown",
   "metadata": {},
   "source": []
  },
  {
   "cell_type": "code",
   "execution_count": 12,
   "metadata": {},
   "outputs": [
    {
     "name": "stdout",
     "output_type": "stream",
     "text": [
      "5 : 20\n",
      "this is even\n"
     ]
    }
   ],
   "source": [
    "a = int(input(\"5 : \"))\n",
    "if a % 2 == 0 .\n",
    "    print(\"this is even\")\n",
    "else:\n",
    "    print(\"this is odd\")"
   ]
  },
  {
   "cell_type": "code",
   "execution_count": 1,
   "metadata": {},
   "outputs": [
    {
     "name": "stdout",
     "output_type": "stream",
     "text": [
      "3 -12\n",
      "12 OK\n"
     ]
    }
   ],
   "source": [
    "Number = int(input(\"3 -\"))\n",
    "if Number % 2 == 0:\n",
    "    print(Number, \"OK\")\n",
    "else:\n",
    "    print(Number, \"not OK\")"
   ]
  },
  {
   "cell_type": "code",
   "execution_count": null,
   "metadata": {},
   "outputs": [],
   "source": []
  }
 ],
 "metadata": {
  "kernelspec": {
   "display_name": "Python 3",
   "language": "python",
   "name": "python3"
  },
  "language_info": {
   "codemirror_mode": {
    "name": "ipython",
    "version": 3
   },
   "file_extension": ".py",
   "mimetype": "text/x-python",
   "name": "python",
   "nbconvert_exporter": "python",
   "pygments_lexer": "ipython3",
   "version": "3.7.1"
  }
 },
 "nbformat": 4,
 "nbformat_minor": 2
}
